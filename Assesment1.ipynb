{
 "cells": [
  {
   "cell_type": "code",
   "execution_count": 1,
   "id": "860aad46-5909-42ea-9515-a3a50c278649",
   "metadata": {},
   "outputs": [
    {
     "data": {
      "text/plain": [
       "str"
      ]
     },
     "execution_count": 1,
     "metadata": {},
     "output_type": "execute_result"
    }
   ],
   "source": [
    "#1. Create one variable containing following type of data:\n",
    "#(i)\tstring\n",
    "\n",
    "a = 'asad'\n",
    "type(a)"
   ]
  },
  {
   "cell_type": "code",
   "execution_count": 2,
   "id": "6179b8df-fc1b-478f-9357-bc6393831efa",
   "metadata": {},
   "outputs": [
    {
     "data": {
      "text/plain": [
       "list"
      ]
     },
     "execution_count": 2,
     "metadata": {},
     "output_type": "execute_result"
    }
   ],
   "source": [
    "#(ii)\tlist\n",
    "lst = [\"1\",\"DS\", True]\n",
    "type(lst)"
   ]
  },
  {
   "cell_type": "code",
   "execution_count": 3,
   "id": "2f0dacb1-8e83-4099-9278-ad56ded326e6",
   "metadata": {},
   "outputs": [
    {
     "data": {
      "text/plain": [
       "float"
      ]
     },
     "execution_count": 3,
     "metadata": {},
     "output_type": "execute_result"
    }
   ],
   "source": [
    "#(iii)\tfloat\n",
    "f = 1.234\n",
    "type(f)\n"
   ]
  },
  {
   "cell_type": "code",
   "execution_count": 4,
   "id": "72be6906-5acf-4333-9835-62804a7fd3ae",
   "metadata": {},
   "outputs": [
    {
     "data": {
      "text/plain": [
       "tuple"
      ]
     },
     "execution_count": 4,
     "metadata": {},
     "output_type": "execute_result"
    }
   ],
   "source": [
    "#(iv)\ttuple\n",
    "t = (1,2,3,4)\n",
    "type(t)"
   ]
  },
  {
   "cell_type": "code",
   "execution_count": 5,
   "id": "c98500e8-d351-48f9-9a05-c81b50c1afe7",
   "metadata": {},
   "outputs": [],
   "source": [
    "#2. Given are some following variables containing data:\n",
    "\n",
    "#(i)\tvar1 = ‘ ‘\n",
    "#Ans : str\n"
   ]
  },
  {
   "cell_type": "code",
   "execution_count": 6,
   "id": "9aef689d-6801-4acb-a2ab-ce5c74b8d353",
   "metadata": {},
   "outputs": [],
   "source": [
    "#(ii)\tvar2 = ‘[ DS , ML , Python]’\n",
    "#Ans : str"
   ]
  },
  {
   "cell_type": "code",
   "execution_count": 7,
   "id": "766bc8a3-2c41-43a1-b1e1-5b348c6e66f0",
   "metadata": {},
   "outputs": [],
   "source": [
    "#(iii)\tvar3 = [ ‘DS’ , ’ML’ , ‘Python’ ]\n",
    "#Ans : list"
   ]
  },
  {
   "cell_type": "code",
   "execution_count": 8,
   "id": "2eaabb54-1d97-4e4e-8306-a230c5e91b85",
   "metadata": {},
   "outputs": [],
   "source": [
    "#(iv)\tvar4 = 1.\n",
    "#Ans : float"
   ]
  },
  {
   "cell_type": "code",
   "execution_count": 9,
   "id": "c92806ab-472b-42c3-962c-7096f79b808d",
   "metadata": {},
   "outputs": [],
   "source": [
    "#Q3. Explain the use of the following operators using an example:\n",
    "\n",
    "#(i)\t/\n",
    "# Ans: / does actual division and return float in response\n",
    "\n",
    "#(ii)\t% \n",
    "#Ans : % provides remainder in response\n",
    "\n",
    "#(iii)\t//\n",
    "# Ans : // does integer devision and return integer in response.\n",
    "\n",
    "#(iv)\t*\n",
    "#Ans: * is used fur multiplication"
   ]
  },
  {
   "cell_type": "code",
   "execution_count": 10,
   "id": "68f06854-587d-442c-9b1a-eb710f902a06",
   "metadata": {},
   "outputs": [
    {
     "name": "stdout",
     "output_type": "stream",
     "text": [
      "1\n",
      "<class 'int'>\n",
      "True\n",
      "<class 'bool'>\n",
      "3\n",
      "<class 'int'>\n",
      "4\n",
      "<class 'int'>\n",
      "fruit\n",
      "<class 'str'>\n",
      "1.5\n",
      "<class 'float'>\n",
      "4\n",
      "<class 'int'>\n",
      "apple\n",
      "<class 'str'>\n",
      "False\n",
      "<class 'bool'>\n",
      "2.0\n",
      "<class 'float'>\n"
     ]
    }
   ],
   "source": [
    "#Q4. Create a list of length 10 of your choice containing multiple types of data. Using for loop print the \n",
    "#element and its data type\n",
    "lst = [1,True,3,4,'fruit',1.5,4,'apple',False, 2.0]\n",
    "for i in lst :\n",
    "    print(i)\n",
    "    print(type(i))"
   ]
  },
  {
   "cell_type": "code",
   "execution_count": null,
   "id": "9af74de1-64b0-4eb1-92ec-6e3da3259f87",
   "metadata": {},
   "outputs": [],
   "source": [
    "#Q5. Using a while loop, verify if the number A is purely divisible by number B and if so then how many \n",
    "#times it can be divisible.\n",
    "\n",
    "A = int(input()) \n",
    "B = int(input())\n",
    "C = A\n",
    "count = 0\n",
    "while A % B == 0:\n",
    "    count += 1\n",
    "    A = A // B\n",
    "\n",
    "if count > 0:\n",
    "    print(f\"{B} divides {C} {count} times\")\n",
    "else:\n",
    "    print(f\"{A} is not divisible by {B}\")"
   ]
  },
  {
   "cell_type": "code",
   "execution_count": null,
   "id": "1b05d5f8-635b-40c4-b2cb-1aa78de86684",
   "metadata": {},
   "outputs": [],
   "source": [
    "#Q6. Create a list containing 25 int type data. Using for loop and if-else condition print if the element is \n",
    "#divisible by 3 or not.\n",
    "\n",
    "lst = [1,2,3,4,5,6,7,8,9,10,11,12,13,14,15,16,17,18,19,20,21,22,23,24,25]\n",
    "for i in lst :\n",
    "    if(i % 3 == 0):\n",
    "        print(f\"{i} is divisible by 3\")\n",
    "    else :\n",
    "        print(f\"{i} is not divisible by 3\")\n"
   ]
  },
  {
   "cell_type": "code",
   "execution_count": null,
   "id": "a9e6d48d-f5cc-4c5e-85e6-4e7ada2787b9",
   "metadata": {},
   "outputs": [],
   "source": [
    " #Q7. What do you understand about mutable and immutable data types? Give examples for both showing \n",
    "#this property.\n",
    "#Ans : string is immutable, we can't change character of a string using index, example below-\n",
    "a = 'asad'\n",
    "a[2]\n",
    "a[2] = 'aa' # here we will get str' object does not support item assignment\n"
   ]
  },
  {
   "cell_type": "code",
   "execution_count": null,
   "id": "aa0a1a0e-d794-4438-a942-11624014831d",
   "metadata": {},
   "outputs": [],
   "source": [
    "# collections are mutable, we can change value in list. example below-\n",
    "lst = [1,\"asad\", True]\n",
    "lst\n"
   ]
  },
  {
   "cell_type": "code",
   "execution_count": null,
   "id": "59ba1d37-efea-4ace-9958-234e58845903",
   "metadata": {},
   "outputs": [],
   "source": [
    "lst[1] = \"razi\"\n",
    "lst[2] = False\n",
    "lst"
   ]
  },
  {
   "cell_type": "code",
   "execution_count": null,
   "id": "c5cb2adb-2807-49fa-a03e-38d5bcf1f6ff",
   "metadata": {},
   "outputs": [],
   "source": []
  }
 ],
 "metadata": {
  "kernelspec": {
   "display_name": "Python 3 (ipykernel)",
   "language": "python",
   "name": "python3"
  },
  "language_info": {
   "codemirror_mode": {
    "name": "ipython",
    "version": 3
   },
   "file_extension": ".py",
   "mimetype": "text/x-python",
   "name": "python",
   "nbconvert_exporter": "python",
   "pygments_lexer": "ipython3",
   "version": "3.10.8"
  }
 },
 "nbformat": 4,
 "nbformat_minor": 5
}
